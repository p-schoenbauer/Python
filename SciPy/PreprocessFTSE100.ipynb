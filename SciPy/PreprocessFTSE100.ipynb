{
 "cells": [
  {
   "cell_type": "code",
   "execution_count": 12,
   "metadata": {},
   "outputs": [],
   "source": [
    "# Input: datafile containing the historical FTSE100 data (source: https://finance.yahoo.com/)\n",
    "# Format: Date \\t open \\t high \\t low \\t close \\t adj.close \\t volume\n",
    "\n",
    "import numpy as np"
   ]
  },
  {
   "cell_type": "code",
   "execution_count": 3,
   "metadata": {},
   "outputs": [
    {
     "name": "stdout",
     "output_type": "stream",
     "text": [
      "Nov 05, 2019\t7,369.70\t7,402.80\t7,369.60\t7,388.10\t7,388.10\t673,186,900\n",
      "\n",
      "Nov 04, 2019\t7,302.40\t7,392.70\t7,302.40\t7,369.70\t7,369.70\t582,661,700\n",
      "\n",
      "Nov 01, 2019\t7,248.40\t7,307.20\t7,248.40\t7,302.40\t7,302.40\t582,078,600\n",
      "\n",
      "Oct 31, 2019\t7,330.80\t7,335.20\t7,245.20\t7,248.40\t7,248.40\t847,657,500\n",
      "\n",
      "Oct 30, 2019\t7,306.30\t7,334.00\t7,278.20\t7,330.80\t7,330.80\t672,191,900\n",
      "\n"
     ]
    }
   ],
   "source": [
    "file = open(r\"d:\\_data\\indices\\FTSE100\")\n",
    "for i in range(5):\n",
    "    print(file.readline())\n",
    "file.close()"
   ]
  },
  {
   "cell_type": "code",
   "execution_count": 58,
   "metadata": {},
   "outputs": [
    {
     "name": "stdout",
     "output_type": "stream",
     "text": [
      "['6,551.20', '6,567.20', '6,611.30', '6,627.40', '6,611.00']\n"
     ]
    },
    {
     "data": {
      "text/plain": [
       "1264"
      ]
     },
     "execution_count": 58,
     "metadata": {},
     "output_type": "execute_result"
    }
   ],
   "source": [
    "file = open(r\"d:\\_data\\indices\\FTSE100\")\n",
    "values_list = []\n",
    "dates_list = []\n",
    "volume_list = []\n",
    "while True:\n",
    "    line = file.readline()\n",
    "    if not line:\n",
    "        break\n",
    "    a = line.split(\"\\t\")\n",
    "    dates_list.append(a[0])\n",
    "    values_list.append(a[4])\n",
    "    volume_list.append(a[-1])\n",
    "file.close()\n",
    "\n",
    "values_list = values_list[::-1]\n",
    "dates_list = dates_list[::-1]\n",
    "volume_list = volume_list[::-1]\n",
    "\n",
    "print(values_list[0:5])\n",
    "len(values_list)\n"
   ]
  },
  {
   "cell_type": "code",
   "execution_count": 59,
   "metadata": {},
   "outputs": [],
   "source": [
    "def preproc(x):\n",
    "    x = [a.replace(\",\",\"\").replace(\"\\n\",\"\") for a in x]\n",
    "    x = [float(a) for a in x]\n",
    "    return x\n"
   ]
  },
  {
   "cell_type": "code",
   "execution_count": 60,
   "metadata": {},
   "outputs": [],
   "source": [
    "values_list = preproc(values_list)\n",
    "volume_list = preproc(volume_list)\n",
    "\n",
    "\n",
    "values = np.array(values_list)\n",
    "volume = np.array(volume_list)\n"
   ]
  },
  {
   "cell_type": "code",
   "execution_count": 61,
   "metadata": {},
   "outputs": [],
   "source": [
    "file = open(r\"d:\\_data\\indices\\FTSE100preproc\",\"w\")\n",
    "for a,b in zip(values,volume):\n",
    "    file.write(repr(a) + \"\\t\" + repr(b) + \"\\n\" )\n",
    "file.close()"
   ]
  },
  {
   "cell_type": "code",
   "execution_count": 51,
   "metadata": {},
   "outputs": [
    {
     "data": {
      "text/plain": [
       "1264"
      ]
     },
     "execution_count": 51,
     "metadata": {},
     "output_type": "execute_result"
    }
   ],
   "source": [
    "len(values_list)"
   ]
  },
  {
   "cell_type": "code",
   "execution_count": 62,
   "metadata": {},
   "outputs": [],
   "source": [
    "np.insert?"
   ]
  },
  {
   "cell_type": "code",
   "execution_count": null,
   "metadata": {},
   "outputs": [],
   "source": []
  }
 ],
 "metadata": {
  "kernelspec": {
   "display_name": "Python 3",
   "language": "python",
   "name": "python3"
  },
  "language_info": {
   "codemirror_mode": {
    "name": "ipython",
    "version": 3
   },
   "file_extension": ".py",
   "mimetype": "text/x-python",
   "name": "python",
   "nbconvert_exporter": "python",
   "pygments_lexer": "ipython3",
   "version": "3.7.3"
  }
 },
 "nbformat": 4,
 "nbformat_minor": 2
}
