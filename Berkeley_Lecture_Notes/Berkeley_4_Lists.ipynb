{
 "cells": [
  {
   "cell_type": "code",
   "execution_count": 31,
   "metadata": {},
   "outputs": [],
   "source": [
    "list=[1,2,3,\"hello\",[1.02,3+2J], abs]"
   ]
  },
  {
   "cell_type": "code",
   "execution_count": 32,
   "metadata": {},
   "outputs": [
    {
     "name": "stdout",
     "output_type": "stream",
     "text": [
      "3\n",
      "[3, 'hello']\n"
     ]
    }
   ],
   "source": [
    "print(list[5](-3))\n",
    "print(list[2:4])"
   ]
  },
  {
   "cell_type": "code",
   "execution_count": 36,
   "metadata": {},
   "outputs": [
    {
     "name": "stdout",
     "output_type": "stream",
     "text": [
      "['HELLO', 'WORLD', 'do', '?']\n",
      "['HELLO', 'x', 'D', 'WORLD', 'do', '?']\n",
      "['HELLO', 'WORLD', 'do', '?']\n",
      "['HELLO', 'WORLD', '?']\n"
     ]
    }
   ],
   "source": [
    "# List Alterations\n",
    "\n",
    "list = [\"How\", \"do\", \"you\", \"do\", \"?\"]\n",
    "list[0:3] = [\"HELLO\",\"WORLD\"]   # Replace \n",
    "print(list)\n",
    "list[1:1] = \"xD\"   #Insert\n",
    "print(list)\n",
    "list[1:3] = []   # Delete\n",
    "print(list)\n",
    "del list[2]   # Delte\n",
    "print(list)"
   ]
  },
  {
   "cell_type": "code",
   "execution_count": 34,
   "metadata": {},
   "outputs": [
    {
     "name": "stdout",
     "output_type": "stream",
     "text": [
      "[1, 2, 3, 4, 5, 6]\n"
     ]
    }
   ],
   "source": [
    "# Concatenation\n",
    "\n",
    "list1 = [1,2,3]\n",
    "list2 = [4,5,6]\n",
    "print(list1+list2)"
   ]
  },
  {
   "cell_type": "code",
   "execution_count": 35,
   "metadata": {},
   "outputs": [
    {
     "name": "stdout",
     "output_type": "stream",
     "text": [
      "['WHAT ???', 'WHAT ???', 'WHAT ???', 'WHAT ???', 'WHAT ???']\n"
     ]
    }
   ],
   "source": [
    "# Repetition\n",
    "\n",
    "list3 = [\"WHAT ???\"]*5\n",
    "print(list3)"
   ]
  },
  {
   "cell_type": "code",
   "execution_count": 37,
   "metadata": {},
   "outputs": [
    {
     "data": {
      "text/plain": [
       "True"
      ]
     },
     "execution_count": 37,
     "metadata": {},
     "output_type": "execute_result"
    }
   ],
   "source": [
    "# Check if element is in the list\n",
    "\n",
    "2 in list1"
   ]
  },
  {
   "cell_type": "code",
   "execution_count": 49,
   "metadata": {},
   "outputs": [
    {
     "name": "stdout",
     "output_type": "stream",
     "text": [
      "[1, 2, 3, 4, 5, 6]\n",
      "[1, 2, 3, 4, 5, 6, 'HELLO']\n",
      "[1, 2, 3, 'WORLD', 4, 5, 6, 'HELLO']\n",
      "[1, 2, 3, 4, 5, 6, 'HELLO']\n",
      "[1, 2, 3, 4, 6, 'HELLO']\n"
     ]
    }
   ],
   "source": [
    "# Append, Extend, Insert, Remove\n",
    "\n",
    "list1 = [1,2,3]\n",
    "list1.extend(list2)\n",
    "print(list1)\n",
    "list1.append(\"HELLO\")\n",
    "print(list1)\n",
    "list1.insert(3,\"WORLD\")\n",
    "print(list1)\n",
    "list1.remove(\"WORLD\")\n",
    "print(list1)\n",
    "del list1[4]\n",
    "print(list1)"
   ]
  },
  {
   "cell_type": "code",
   "execution_count": 47,
   "metadata": {},
   "outputs": [
    {
     "name": "stdout",
     "output_type": "stream",
     "text": [
      "4\n",
      "1\n",
      "[1, 2, 4, 3, 2, 2, 3, 2]\n"
     ]
    }
   ],
   "source": [
    "# Index and Count\n",
    "\n",
    "list = [1,2,33,4,3,2,2,3,2]\n",
    "print(list.count(2))\n",
    "print(list.index(2))"
   ]
  },
  {
   "cell_type": "code",
   "execution_count": 51,
   "metadata": {},
   "outputs": [
    {
     "name": "stdout",
     "output_type": "stream",
     "text": [
      "(1, 2, 3, 4, 5, 6, 1)\n"
     ]
    }
   ],
   "source": [
    "# Tuple \n",
    "# Like list but not mutable\n",
    "\n",
    "x = (1,2,3)\n",
    "y = (4,5,6)\n",
    "z = ()   # Empty tuple\n",
    "a = (1,) # Tuple with one element (comma is necessary to distinguish from arithmetic expression)\n",
    "print (x+y+z+a)"
   ]
  },
  {
   "cell_type": "code",
   "execution_count": 57,
   "metadata": {},
   "outputs": [
    {
     "name": "stdout",
     "output_type": "stream",
     "text": [
      "(-1, 1, 2.2, 7, 20)\n"
     ]
    }
   ],
   "source": [
    "# Convert Tuple to List and reverse\n",
    "\n",
    "x = (1,20,-1,2.2,7)\n",
    "y = __builtin__.list(x)   # name list has been overwritten above. Use __bulitin__ to access the bulitin namespace. \n",
    "y.sort()\n",
    "x = tuple(y)\n",
    "print(x)"
   ]
  },
  {
   "cell_type": "code",
   "execution_count": 72,
   "metadata": {},
   "outputs": [
    {
     "name": "stdout",
     "output_type": "stream",
     "text": [
      "2\n",
      "{'X': 1, 'Y': 2, 'Z': (3+2j), 'U': 5}\n",
      "True\n",
      "1\n",
      "1\n",
      "HELLO\n",
      "dict_keys(['X', 'Y', 'Z', 'U'])\n",
      "dict_values([1, 2, (3+2j), 5])\n",
      "dict_items([('X', 1), ('Z', (3+2j)), ('U', 5)])\n",
      "<class 'dict_items'>\n",
      "[('X', 1), ('Z', (3+2j)), ('U', 5)]\n",
      "{'X': 22, 'Z': (3+2j), 'U': 5, (1, 0): 'WORLD!'}\n"
     ]
    }
   ],
   "source": [
    "# Dictionaries\n",
    "# Can use any immutable object as index\n",
    "\n",
    "dict = {\"X\":1, \"Y\":2, \"Z\":3+2J}\n",
    "print(dict[\"Y\"])\n",
    "dict[\"U\"] = 5        # Add a value to the dictionary\n",
    "print(dict)\n",
    "print(\"X\" in dict)   # Check if an element is in keys\n",
    "print(dict.get(\"X\"))\n",
    "print(dict.get(\"X\",\"HELLO\"))\n",
    "print(dict.get(\"XX\",\"HELLO\"))\n",
    "print(dict.keys())  \n",
    "print(dict.values())\n",
    "del dict[\"Y\"]        # Delete an element\n",
    "print(dict.items())  # Return items as tupels (key,value)\n",
    "print(type(dict.items()))\n",
    "print(__builtin__.list(dict.items()))   # Convert items to list\n",
    "newdict = {\"X\":22, (1,0):\"WORLD!\"}\n",
    "dict.update(newdict) # Update dict using newdict\n",
    "print(dict)"
   ]
  },
  {
   "cell_type": "code",
   "execution_count": null,
   "metadata": {},
   "outputs": [],
   "source": []
  },
  {
   "cell_type": "code",
   "execution_count": null,
   "metadata": {},
   "outputs": [],
   "source": []
  },
  {
   "cell_type": "code",
   "execution_count": null,
   "metadata": {},
   "outputs": [],
   "source": []
  },
  {
   "cell_type": "code",
   "execution_count": null,
   "metadata": {},
   "outputs": [],
   "source": []
  }
 ],
 "metadata": {
  "kernelspec": {
   "display_name": "Python 3",
   "language": "python",
   "name": "python3"
  },
  "language_info": {
   "codemirror_mode": {
    "name": "ipython",
    "version": 3
   },
   "file_extension": ".py",
   "mimetype": "text/x-python",
   "name": "python",
   "nbconvert_exporter": "python",
   "pygments_lexer": "ipython3",
   "version": "3.7.3"
  }
 },
 "nbformat": 4,
 "nbformat_minor": 2
}
