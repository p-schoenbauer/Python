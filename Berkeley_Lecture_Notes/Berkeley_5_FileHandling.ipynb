{
 "cells": [
  {
   "cell_type": "code",
   "execution_count": 16,
   "metadata": {},
   "outputs": [
    {
     "name": "stdout",
     "output_type": "stream",
     "text": [
      "HELLO WORLD! This file contains some text...\n",
      "\n",
      "HELLO WORLD! This file contains some text...\n"
     ]
    }
   ],
   "source": [
    "# Open files\n",
    "# Second argument is \n",
    "#    \"r\"  (read)\n",
    "#    \"r+\" (read and write)\n",
    "#    \"w\"  (write + FILE IS DELTED if it already exists)\n",
    "#    \"w+\" (read and write + FILE IS DELTED if it already exists)\n",
    "#    \"a\"  (append. Writes will always be at the end!)\n",
    "#    \"a+\" (append and read. Writes will always be at the end!)"
   ]
  },
  {
   "cell_type": "code",
   "execution_count": 32,
   "metadata": {},
   "outputs": [
    {
     "name": "stdout",
     "output_type": "stream",
     "text": [
      "HELLO WORLD! This file contains some text...\n",
      "\n",
      "HELLO WORLD! This file contains some text...\n",
      "['Read this HAHAHA', 'Blue is the new Green xD', 'CIAO MONDO', 'CIAO MONDO', 'n', 'CIAO MONDO', '', 'CIAO MONDOThis is a NEW LINE!!!This is a NEW LINE!!!This is a NEW LINE!!']\n"
     ]
    }
   ],
   "source": [
    "# Reading\n",
    "\n",
    "file = open(\"data.txt\",\"r\")\n",
    "line = file.readline()\n",
    "print(line)\n",
    "line = line[:-1]   # Line has the line-end character at the end. Remove it.\n",
    "print(line)\n",
    "lines = [a[:-1] for a in file.readlines()]\n",
    "print(lines)\n",
    "file.close()"
   ]
  },
  {
   "cell_type": "code",
   "execution_count": 45,
   "metadata": {},
   "outputs": [],
   "source": [
    "#Deleting \"This is a NEW LINE!!!\"\n",
    "\n",
    "file = open(\"data.txt\",\"r+\")\n",
    "lines = file.readlines()\n",
    "lines = [q.replace(\"This is a NEW LINE!!!\",\"\") for q in lines]\n",
    "file.close()\n",
    "file = open(\"data.txt\",\"w\")\n",
    "file.write(\"\".join(lines))\n",
    "file.close()"
   ]
  },
  {
   "cell_type": "code",
   "execution_count": null,
   "metadata": {},
   "outputs": [],
   "source": [
    "# Appending\n",
    "\n",
    "try:\n",
    "    file = open(\"data.txt\",\"a\")\n",
    "    file.write(\"\\r\\nCIAO MONDO\")\n",
    "    file.close()\n",
    "except IOError:\n",
    "    print(\"File could not be opened.\")"
   ]
  },
  {
   "cell_type": "code",
   "execution_count": 44,
   "metadata": {},
   "outputs": [
    {
     "name": "stdout",
     "output_type": "stream",
     "text": [
      "46\n",
      "HELLO WORLD! This file contains some text...\n",
      "\n"
     ]
    }
   ],
   "source": [
    "# Writing\n",
    "\n",
    "file = open(\"data.txt\", \"r+\")\n",
    "line = file.readline()\n",
    "print(file.tell())\n",
    "file.write(\"This is a NEW LINE!!!\")\n",
    "file.close()\n",
    "print(line)"
   ]
  },
  {
   "cell_type": "code",
   "execution_count": null,
   "metadata": {},
   "outputs": [],
   "source": []
  },
  {
   "cell_type": "code",
   "execution_count": null,
   "metadata": {},
   "outputs": [],
   "source": []
  },
  {
   "cell_type": "code",
   "execution_count": null,
   "metadata": {},
   "outputs": [],
   "source": []
  },
  {
   "cell_type": "code",
   "execution_count": null,
   "metadata": {},
   "outputs": [],
   "source": []
  }
 ],
 "metadata": {
  "kernelspec": {
   "display_name": "Python 3",
   "language": "python",
   "name": "python3"
  },
  "language_info": {
   "codemirror_mode": {
    "name": "ipython",
    "version": 3
   },
   "file_extension": ".py",
   "mimetype": "text/x-python",
   "name": "python",
   "nbconvert_exporter": "python",
   "pygments_lexer": "ipython3",
   "version": "3.7.3"
  }
 },
 "nbformat": 4,
 "nbformat_minor": 2
}
