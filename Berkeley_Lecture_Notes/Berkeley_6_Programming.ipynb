{
 "cells": [
  {
   "cell_type": "code",
   "execution_count": 12,
   "metadata": {},
   "outputs": [
    {
     "name": "stdout",
     "output_type": "stream",
     "text": [
      "0 0 0\n",
      "1 2 3\n",
      "10 20 30\n",
      "A B C\n"
     ]
    }
   ],
   "source": [
    "# Assignments\n",
    "\n",
    "x=y=z=0\n",
    "print(x,y,z)\n",
    "x,y,z = 1,2,3\n",
    "print(x,y,z)\n",
    "x,y,z = [10,20,30]\n",
    "print(x,y,z)\n",
    "x,y,z = \"ABC\"\n",
    "print(x,y,z)"
   ]
  },
  {
   "cell_type": "code",
   "execution_count": 17,
   "metadata": {},
   "outputs": [
    {
     "name": "stdout",
     "output_type": "stream",
     "text": [
      "True True\n",
      "True False\n",
      "True False\n",
      "[1, 2, 333, 4, 5] [1, 2, 3, 4, 5]\n"
     ]
    }
   ],
   "source": [
    "import copy\n",
    "\n",
    "x = [1,2,3,4,5]\n",
    "y = x                   # Reference\n",
    "print(y == x, y is x)\n",
    "y = copy.copy(x)        # Copy\n",
    "print(y == x, y is x)\n",
    "y = x[:]                # Copy\n",
    "print(y == x, y is x)\n",
    "x[2] = 333\n",
    "print(x,y)"
   ]
  },
  {
   "cell_type": "code",
   "execution_count": 23,
   "metadata": {
    "scrolled": true
   },
   "outputs": [
    {
     "name": "stdout",
     "output_type": "stream",
     "text": [
      "-2\n",
      "X is negative\n"
     ]
    }
   ],
   "source": [
    "x = int(input())\n",
    "if x>0:\n",
    "    print(\"X is positive\")\n",
    "elif x<0:\n",
    "    print(\"X is negative\")\n",
    "else:\n",
    "    print(\"X is zero\")"
   ]
  },
  {
   "cell_type": "code",
   "execution_count": 24,
   "metadata": {},
   "outputs": [
    {
     "name": "stdout",
     "output_type": "stream",
     "text": [
      "45\n",
      "17\n",
      "25\n",
      "11\n",
      "10\n"
     ]
    }
   ],
   "source": [
    "file = open(\"data.txt\")\n",
    "for line in file:\n",
    "    print(len(line))\n",
    "file.close()"
   ]
  },
  {
   "cell_type": "code",
   "execution_count": 29,
   "metadata": {},
   "outputs": [
    {
     "name": "stdout",
     "output_type": "stream",
     "text": [
      "[2, 6, 12, 20, 30]\n",
      "[2, 6, 12, 20, 30]\n"
     ]
    }
   ],
   "source": [
    "x = [1,2,3,4,5]\n",
    "y = [2,3,4,5,6]\n",
    "z = []\n",
    "for i in range(len(x)):\n",
    "    z.append(x[i]*y[i])\n",
    "print(z)\n",
    "w = [p*q for p,q in zip(x,y)]\n",
    "print(w)"
   ]
  },
  {
   "cell_type": "code",
   "execution_count": 32,
   "metadata": {},
   "outputs": [
    {
     "data": {
      "text/plain": [
       "[1, 4, 9, 16, 25, 36]"
      ]
     },
     "execution_count": 32,
     "metadata": {},
     "output_type": "execute_result"
    }
   ],
   "source": [
    "# List Comprehensions\n",
    "# [expression for var1 in seq1 if condition1 for var2 in seq2 if condition2 ...]\n",
    "a = [[1,2,3],[4,5,6]]\n",
    "b = [p*p for q in a for p in q]\n",
    "b"
   ]
  },
  {
   "cell_type": "code",
   "execution_count": null,
   "metadata": {},
   "outputs": [],
   "source": []
  },
  {
   "cell_type": "code",
   "execution_count": null,
   "metadata": {},
   "outputs": [],
   "source": []
  },
  {
   "cell_type": "code",
   "execution_count": null,
   "metadata": {},
   "outputs": [],
   "source": []
  },
  {
   "cell_type": "code",
   "execution_count": null,
   "metadata": {},
   "outputs": [],
   "source": []
  },
  {
   "cell_type": "code",
   "execution_count": null,
   "metadata": {},
   "outputs": [],
   "source": []
  },
  {
   "cell_type": "code",
   "execution_count": null,
   "metadata": {},
   "outputs": [],
   "source": []
  },
  {
   "cell_type": "code",
   "execution_count": null,
   "metadata": {},
   "outputs": [],
   "source": []
  },
  {
   "cell_type": "code",
   "execution_count": null,
   "metadata": {},
   "outputs": [],
   "source": []
  },
  {
   "cell_type": "code",
   "execution_count": null,
   "metadata": {},
   "outputs": [],
   "source": []
  }
 ],
 "metadata": {
  "kernelspec": {
   "display_name": "Python 3",
   "language": "python",
   "name": "python3"
  },
  "language_info": {
   "codemirror_mode": {
    "name": "ipython",
    "version": 3
   },
   "file_extension": ".py",
   "mimetype": "text/x-python",
   "name": "python",
   "nbconvert_exporter": "python",
   "pygments_lexer": "ipython3",
   "version": "3.7.3"
  }
 },
 "nbformat": 4,
 "nbformat_minor": 2
}
