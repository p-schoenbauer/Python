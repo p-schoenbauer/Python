{
 "cells": [
  {
   "cell_type": "code",
   "execution_count": 42,
   "metadata": {},
   "outputs": [],
   "source": [
    "text = \"Integer %d and unsigned intger %u\" % (1,-2)\n",
    "text2 = \"Octo %o and Hexa %X\" % (20,30)\n",
    "text3 = \"Floating point %10.2f, exponential notaion %e or %E and \\\"Optimal notation\\\" %g or %G\" % (232.456,333.2,333.2,123.123,123.123)\n",
    "# Note: in notation 10.2f, the first number (10) denotes the field width (including decimal point), \n",
    "#       the second the number of digits after the decimal point.\n",
    "text4 = \"%s, %c\" % ([1,2,3],66)   \n",
    "# % s = String representation\n",
    "# % c = single character"
   ]
  },
  {
   "cell_type": "code",
   "execution_count": 43,
   "metadata": {},
   "outputs": [
    {
     "name": "stdout",
     "output_type": "stream",
     "text": [
      "Integer 1 and unsigned intger -2\n",
      "Octo 24 and Hexa 1E\n",
      "Floating point     232.46, exponential notaion 3.332000e+02 or 3.332000E+02 and \"Optimal notation\" 123.123 or 123.123\n",
      "[1, 2, 3], B\n"
     ]
    }
   ],
   "source": [
    "print(text)\n",
    "print(text2)\n",
    "print(text3)\n",
    "print(text4)"
   ]
  },
  {
   "cell_type": "code",
   "execution_count": 47,
   "metadata": {},
   "outputs": [
    {
     "name": "stdout",
     "output_type": "stream",
     "text": [
      "Whats your name? \n",
      "Philipp\n",
      "Your name is Philipp\n"
     ]
    }
   ],
   "source": [
    "print(\"Whats your name? \")\n",
    "name = input()\n",
    "print(\"Your name is \"+ name)"
   ]
  },
  {
   "cell_type": "code",
   "execution_count": null,
   "metadata": {},
   "outputs": [],
   "source": []
  },
  {
   "cell_type": "code",
   "execution_count": null,
   "metadata": {},
   "outputs": [],
   "source": []
  },
  {
   "cell_type": "code",
   "execution_count": null,
   "metadata": {},
   "outputs": [],
   "source": []
  },
  {
   "cell_type": "code",
   "execution_count": null,
   "metadata": {},
   "outputs": [],
   "source": []
  },
  {
   "cell_type": "code",
   "execution_count": null,
   "metadata": {},
   "outputs": [],
   "source": []
  },
  {
   "cell_type": "code",
   "execution_count": null,
   "metadata": {},
   "outputs": [],
   "source": []
  },
  {
   "cell_type": "code",
   "execution_count": null,
   "metadata": {},
   "outputs": [],
   "source": []
  },
  {
   "cell_type": "code",
   "execution_count": null,
   "metadata": {},
   "outputs": [],
   "source": []
  },
  {
   "cell_type": "code",
   "execution_count": null,
   "metadata": {},
   "outputs": [],
   "source": []
  },
  {
   "cell_type": "code",
   "execution_count": null,
   "metadata": {},
   "outputs": [],
   "source": []
  },
  {
   "cell_type": "code",
   "execution_count": null,
   "metadata": {},
   "outputs": [],
   "source": []
  },
  {
   "cell_type": "code",
   "execution_count": null,
   "metadata": {},
   "outputs": [],
   "source": []
  }
 ],
 "metadata": {
  "kernelspec": {
   "display_name": "Python 3",
   "language": "python",
   "name": "python3"
  },
  "language_info": {
   "codemirror_mode": {
    "name": "ipython",
    "version": 3
   },
   "file_extension": ".py",
   "mimetype": "text/x-python",
   "name": "python",
   "nbconvert_exporter": "python",
   "pygments_lexer": "ipython3",
   "version": "3.7.3"
  }
 },
 "nbformat": 4,
 "nbformat_minor": 2
}
