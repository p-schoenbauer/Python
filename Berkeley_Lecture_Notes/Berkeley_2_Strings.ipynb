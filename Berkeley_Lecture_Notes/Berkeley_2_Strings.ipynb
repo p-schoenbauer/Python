{
 "cells": [
  {
   "cell_type": "code",
   "execution_count": 3,
   "metadata": {},
   "outputs": [
    {
     "name": "stdout",
     "output_type": "stream",
     "text": [
      "hello world\n"
     ]
    }
   ],
   "source": [
    "print(\"hello world\")"
   ]
  },
  {
   "cell_type": "code",
   "execution_count": 4,
   "metadata": {},
   "outputs": [
    {
     "data": {
      "text/plain": [
       "['In',\n",
       " 'Out',\n",
       " '_',\n",
       " '__',\n",
       " '___',\n",
       " '__builtin__',\n",
       " '__builtins__',\n",
       " '__doc__',\n",
       " '__loader__',\n",
       " '__name__',\n",
       " '__package__',\n",
       " '__spec__',\n",
       " '_dh',\n",
       " '_i',\n",
       " '_i1',\n",
       " '_i2',\n",
       " '_i3',\n",
       " '_i4',\n",
       " '_ih',\n",
       " '_ii',\n",
       " '_iii',\n",
       " '_oh',\n",
       " 'exit',\n",
       " 'get_ipython',\n",
       " 'quit']"
      ]
     },
     "execution_count": 4,
     "metadata": {},
     "output_type": "execute_result"
    }
   ],
   "source": [
    "dir()"
   ]
  },
  {
   "cell_type": "code",
   "execution_count": 5,
   "metadata": {},
   "outputs": [
    {
     "data": {
      "text/plain": [
       "['__add__',\n",
       " '__class__',\n",
       " '__contains__',\n",
       " '__delattr__',\n",
       " '__dir__',\n",
       " '__doc__',\n",
       " '__eq__',\n",
       " '__format__',\n",
       " '__ge__',\n",
       " '__getattribute__',\n",
       " '__getitem__',\n",
       " '__getnewargs__',\n",
       " '__gt__',\n",
       " '__hash__',\n",
       " '__init__',\n",
       " '__init_subclass__',\n",
       " '__iter__',\n",
       " '__le__',\n",
       " '__len__',\n",
       " '__lt__',\n",
       " '__mod__',\n",
       " '__mul__',\n",
       " '__ne__',\n",
       " '__new__',\n",
       " '__reduce__',\n",
       " '__reduce_ex__',\n",
       " '__repr__',\n",
       " '__rmod__',\n",
       " '__rmul__',\n",
       " '__setattr__',\n",
       " '__sizeof__',\n",
       " '__str__',\n",
       " '__subclasshook__',\n",
       " 'capitalize',\n",
       " 'casefold',\n",
       " 'center',\n",
       " 'count',\n",
       " 'encode',\n",
       " 'endswith',\n",
       " 'expandtabs',\n",
       " 'find',\n",
       " 'format',\n",
       " 'format_map',\n",
       " 'index',\n",
       " 'isalnum',\n",
       " 'isalpha',\n",
       " 'isascii',\n",
       " 'isdecimal',\n",
       " 'isdigit',\n",
       " 'isidentifier',\n",
       " 'islower',\n",
       " 'isnumeric',\n",
       " 'isprintable',\n",
       " 'isspace',\n",
       " 'istitle',\n",
       " 'isupper',\n",
       " 'join',\n",
       " 'ljust',\n",
       " 'lower',\n",
       " 'lstrip',\n",
       " 'maketrans',\n",
       " 'partition',\n",
       " 'replace',\n",
       " 'rfind',\n",
       " 'rindex',\n",
       " 'rjust',\n",
       " 'rpartition',\n",
       " 'rsplit',\n",
       " 'rstrip',\n",
       " 'split',\n",
       " 'splitlines',\n",
       " 'startswith',\n",
       " 'strip',\n",
       " 'swapcase',\n",
       " 'title',\n",
       " 'translate',\n",
       " 'upper',\n",
       " 'zfill']"
      ]
     },
     "execution_count": 5,
     "metadata": {},
     "output_type": "execute_result"
    }
   ],
   "source": [
    "dir(_i)"
   ]
  },
  {
   "cell_type": "code",
   "execution_count": 9,
   "metadata": {},
   "outputs": [],
   "source": [
    "import string"
   ]
  },
  {
   "cell_type": "code",
   "execution_count": 10,
   "metadata": {},
   "outputs": [
    {
     "data": {
      "text/plain": [
       "['Hello', 'World']"
      ]
     },
     "execution_count": 10,
     "metadata": {},
     "output_type": "execute_result"
    }
   ],
   "source": [
    "\"Hello World\".split()"
   ]
  },
  {
   "cell_type": "code",
   "execution_count": 13,
   "metadata": {},
   "outputs": [
    {
     "name": "stdout",
     "output_type": "stream",
     "text": [
      "Division by zero\n"
     ]
    }
   ],
   "source": [
    "#Try-catch statement\n",
    "\n",
    "try:\n",
    "    print(7/0)\n",
    "except ZeroDivisionError:\n",
    "    print(\"Division by zero\")"
   ]
  },
  {
   "cell_type": "code",
   "execution_count": 14,
   "metadata": {},
   "outputs": [
    {
     "name": "stdout",
     "output_type": "stream",
     "text": [
      "This is a very long text.\n",
      "Using multiple lines.\n",
      "Hello World!\n"
     ]
    }
   ],
   "source": [
    "# String with multiple lines\n",
    "\n",
    "longtext = \"\"\"This is a very long text.\n",
    "Using multiple lines.\n",
    "Hello World!\"\"\"\n",
    "\n",
    "print(longtext)"
   ]
  },
  {
   "cell_type": "code",
   "execution_count": 18,
   "metadata": {},
   "outputs": [
    {
     "name": "stdout",
     "output_type": "stream",
     "text": [
      "' \n",
      " \\ \"\n"
     ]
    }
   ],
   "source": [
    "# Some special characters\n",
    "\n",
    "specialcharacters = \"\\' \\n \\\\ \\\"\"\n",
    "print(specialcharacters)"
   ]
  },
  {
   "cell_type": "code",
   "execution_count": 20,
   "metadata": {},
   "outputs": [
    {
     "name": "stdout",
     "output_type": "stream",
     "text": [
      "\\' \\\" \\\\ \n"
     ]
    }
   ],
   "source": [
    "# Write R or r in front of a string to disable special characters\n",
    "\n",
    "\n",
    "nospecialcharacters = r\"\\' \\\" \\\\ \"\n",
    "print(nospecialcharacters)"
   ]
  },
  {
   "cell_type": "code",
   "execution_count": 79,
   "metadata": {},
   "outputs": [
    {
     "name": "stdout",
     "output_type": "stream",
     "text": [
      "Convert number to string with repr: 5.5\n",
      "Convert number to string with repr: 5.5\n"
     ]
    }
   ],
   "source": [
    "# repr(), str(): Convert a number to a string \n",
    "\n",
    "print(\"Convert number to string with repr: \" + repr(5.5))\n",
    "print(\"Convert number to string with repr: \" + str(5.5))"
   ]
  },
  {
   "cell_type": "code",
   "execution_count": 25,
   "metadata": {},
   "outputs": [
    {
     "name": "stdout",
     "output_type": "stream",
     "text": [
      "A whole bunch of Tables: Table Table Table Table Table Table Table Table Table Table \n",
      "And som chairs: Chair Chair Chair Chair Chair Chair Chair Chair Chair Chair Chair Chair Chair Chair Chair Chair Chair Chair Chair Chair \n"
     ]
    }
   ],
   "source": [
    "# duplicate with the * opertor\n",
    "\n",
    "print(\"A whole bunch of Tables: \" + \"Table \"*10)\n",
    "print(\"And som chairs: \" + 20*\"Chair \")"
   ]
  },
  {
   "cell_type": "code",
   "execution_count": 28,
   "metadata": {},
   "outputs": [
    {
     "name": "stdout",
     "output_type": "stream",
     "text": [
      "The first character from longtext is \"T\" and the last is \"!\"\n"
     ]
    }
   ],
   "source": [
    "# Access a particular index\n",
    "\n",
    "print(\"The first character from longtext is \\\"\" + longtext[0] + \"\\\" and the last is \\\"\" + longtext[-1] + \"\\\"\")"
   ]
  },
  {
   "cell_type": "code",
   "execution_count": 31,
   "metadata": {},
   "outputs": [
    {
     "name": "stdout",
     "output_type": "stream",
     "text": [
      "is is a ver\n",
      "This \n",
      "60\n"
     ]
    }
   ],
   "source": [
    "#Access substrings\n",
    "\n",
    "print(longtext[2:13])\n",
    "print(longtext[:5])\n",
    "print(len(longtext))"
   ]
  },
  {
   "cell_type": "code",
   "execution_count": 61,
   "metadata": {},
   "outputs": [
    {
     "name": "stdout",
     "output_type": "stream",
     "text": [
      "['This', 'is', 'a', 'very', 'long', 'text.', 'Using', 'multiple', 'lines.', 'Hello', 'World!']\n",
      "['This is a very long text.', 'Using multiple lines.', 'Hello World!']\n",
      "['This', 'is', 'a', 'very', 'long', 'text.', 'Using', 'multiple', 'lines.', 'Hello', 'World!']\n"
     ]
    },
    {
     "data": {
      "text/plain": [
       "['This', 'is', 'a', 'very long text.\\nUsing multiple lines.\\nHello World!']"
      ]
     },
     "execution_count": 61,
     "metadata": {},
     "output_type": "execute_result"
    }
   ],
   "source": [
    "# Split\n",
    "\n",
    "print(longtext.split())\n",
    "print(longtext.split(\"\\n\"))\n",
    "list = [p for q in longtext.split(\"\\n\") for p in q.split(\" \")]\n",
    "print(list)\n",
    "longtext.split(maxsplit=3)"
   ]
  },
  {
   "cell_type": "code",
   "execution_count": 55,
   "metadata": {},
   "outputs": [
    {
     "name": "stdout",
     "output_type": "stream",
     "text": [
      "This!is!a!very!long!text.!Using!multiple!lines.!Hello!World!\n"
     ]
    }
   ],
   "source": [
    "# Join\n",
    "\n",
    "text = \"!\".join(list)\n",
    "print(text)"
   ]
  },
  {
   "cell_type": "code",
   "execution_count": 62,
   "metadata": {},
   "outputs": [
    {
     "name": "stdout",
     "output_type": "stream",
     "text": [
      "11\n",
      "4\n",
      "59\n",
      "60\n"
     ]
    }
   ],
   "source": [
    "# Count/Index/Length\n",
    "\n",
    "print(text.count(\"!\"))\n",
    "print(text.index(\"!\"))   # First index\n",
    "print(text.rindex(\"!\"))  # Last index\n",
    "print(len(text))"
   ]
  },
  {
   "cell_type": "code",
   "execution_count": 78,
   "metadata": {},
   "outputs": [
    {
     "name": "stdout",
     "output_type": "stream",
     "text": [
      "                This!is!a!very!long!text.!Using!multiple!lines.!Hello!World!                ...\n",
      "This!is!a!very!long!text.!Using!multiple!lines.!Hello!World!                ...\n",
      "                This!is!a!very!long!text.!Using!multiple!lines.!Hello!World!...\n",
      "This!is!a!very!long!text.!Using!multiple!lines.!Hello!World!...\n",
      "This!is!a!very!long!text.!Using!multiple!lines.!Hello!World!                                \n",
      "                                This!is!a!very!long!text.!Using!multiple!lines.!Hello!World!\n",
      "This!is!a!very!long!text.!using!multiple!lines.!hello!world!\n",
      "THIS!IS!A!VERY!LONG!TEXT.!USING!MULTIPLE!LINES.!HELLO!WORLD!\n",
      "this!is!a!very!long!text.!using!multiple!lines.!hello!world!\n",
      "This!Is!A!Very!Long!Text.!Using!Multiple!Lines.!Hello!World!\n"
     ]
    }
   ],
   "source": [
    "text2 = text.center(92)\n",
    "print(text2 + \"...\")\n",
    "print(text2.lstrip() + \"...\")\n",
    "print(text2.rstrip() + \"...\")\n",
    "print(text2.strip() + \"...\")\n",
    "print(text.ljust(92))\n",
    "print(text.rjust(92))\n",
    "print(text.capitalize())   # Capitalize only first letter\n",
    "print(text.upper())\n",
    "print(text.lower())\n",
    "print(text.title())   # Capitalize the first letter in each word"
   ]
  },
  {
   "cell_type": "code",
   "execution_count": null,
   "metadata": {},
   "outputs": [],
   "source": [
    "#####   USEFUL FUNCTIONS NOT COVERED IN BERKELEY LECTURE NOTES   ##### "
   ]
  },
  {
   "cell_type": "code",
   "execution_count": 86,
   "metadata": {},
   "outputs": [
    {
     "name": "stdout",
     "output_type": "stream",
     "text": [
      "---Hello World!!!---\n"
     ]
    }
   ],
   "source": [
    "# Replace\n",
    "\n",
    "text = \"Hello World!!! Mundo, Mundo, Mundo\"\n",
    "text = text.replace(\"Mundo\",\"\").replace(\",\",\"\").strip()\n",
    "print(\"---\" + text + \"---\")"
   ]
  },
  {
   "cell_type": "code",
   "execution_count": 87,
   "metadata": {},
   "outputs": [
    {
     "name": "stdout",
     "output_type": "stream",
     "text": [
      "0123456789\n",
      "ABCDEFGHIJKLMNOPQRSTUVWXYZ\n",
      "abcdefghijklmnopqrstuvwxyz\n"
     ]
    }
   ],
   "source": [
    "print(string.digits)\n",
    "print(string.ascii_uppercase)\n",
    "print(string.ascii_lowercase)"
   ]
  },
  {
   "cell_type": "code",
   "execution_count": null,
   "metadata": {},
   "outputs": [],
   "source": []
  },
  {
   "cell_type": "code",
   "execution_count": null,
   "metadata": {},
   "outputs": [],
   "source": []
  },
  {
   "cell_type": "code",
   "execution_count": null,
   "metadata": {},
   "outputs": [],
   "source": []
  },
  {
   "cell_type": "code",
   "execution_count": null,
   "metadata": {},
   "outputs": [],
   "source": []
  },
  {
   "cell_type": "code",
   "execution_count": null,
   "metadata": {},
   "outputs": [],
   "source": []
  },
  {
   "cell_type": "code",
   "execution_count": null,
   "metadata": {},
   "outputs": [],
   "source": []
  },
  {
   "cell_type": "code",
   "execution_count": null,
   "metadata": {},
   "outputs": [],
   "source": []
  },
  {
   "cell_type": "code",
   "execution_count": null,
   "metadata": {},
   "outputs": [],
   "source": []
  },
  {
   "cell_type": "code",
   "execution_count": null,
   "metadata": {},
   "outputs": [],
   "source": []
  },
  {
   "cell_type": "code",
   "execution_count": null,
   "metadata": {},
   "outputs": [],
   "source": []
  },
  {
   "cell_type": "code",
   "execution_count": null,
   "metadata": {},
   "outputs": [],
   "source": []
  }
 ],
 "metadata": {
  "kernelspec": {
   "display_name": "Python 3",
   "language": "python",
   "name": "python3"
  },
  "language_info": {
   "codemirror_mode": {
    "name": "ipython",
    "version": 3
   },
   "file_extension": ".py",
   "mimetype": "text/x-python",
   "name": "python",
   "nbconvert_exporter": "python",
   "pygments_lexer": "ipython3",
   "version": "3.7.3"
  }
 },
 "nbformat": 4,
 "nbformat_minor": 2
}
